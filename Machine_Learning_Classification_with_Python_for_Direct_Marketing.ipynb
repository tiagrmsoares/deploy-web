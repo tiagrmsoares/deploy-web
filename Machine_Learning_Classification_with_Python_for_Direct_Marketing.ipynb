{
  "nbformat": 4,
  "nbformat_minor": 0,
  "metadata": {
    "colab": {
      "name": "Machine Learning Classification with Python for Direct Marketing.ipynb",
      "provenance": [],
      "collapsed_sections": [],
      "authorship_tag": "ABX9TyOt+AWNez+owTDp6p0CbunH",
      "include_colab_link": true
    },
    "kernelspec": {
      "name": "python3",
      "display_name": "Python 3"
    }
  },
  "cells": [
    {
      "cell_type": "markdown",
      "metadata": {
        "id": "view-in-github",
        "colab_type": "text"
      },
      "source": [
        "<a href=\"https://colab.research.google.com/github/tiagrmsoares/deploy-web/blob/master/Machine_Learning_Classification_with_Python_for_Direct_Marketing.ipynb\" target=\"_parent\"><img src=\"https://colab.research.google.com/assets/colab-badge.svg\" alt=\"Open In Colab\"/></a>"
      ]
    },
    {
      "cell_type": "markdown",
      "metadata": {
        "id": "dfEiOCy6lxAg",
        "colab_type": "text"
      },
      "source": [
        "# Machine Learning Classification with Python for Direct Marketing"
      ]
    },
    {
      "cell_type": "markdown",
      "metadata": {
        "id": "dmnS7BrjYXuA",
        "colab_type": "text"
      },
      "source": [
        "# Import\n",
        "Primeiro vamos importar o banco de dados:"
      ]
    },
    {
      "cell_type": "code",
      "metadata": {
        "id": "jTOSBfRm5pRo",
        "colab_type": "code",
        "colab": {
          "base_uri": "https://localhost:8080/",
          "height": 224
        },
        "outputId": "e407b4bd-ab33-4246-9e72-0a14ea733f2d"
      },
      "source": [
        "import pandas as pd\n",
        "df = pd.read_csv('bank.csv', delimiter = ';', decimal = ',')\n",
        "df.head()"
      ],
      "execution_count": 45,
      "outputs": [
        {
          "output_type": "execute_result",
          "data": {
            "text/html": [
              "<div>\n",
              "<style scoped>\n",
              "    .dataframe tbody tr th:only-of-type {\n",
              "        vertical-align: middle;\n",
              "    }\n",
              "\n",
              "    .dataframe tbody tr th {\n",
              "        vertical-align: top;\n",
              "    }\n",
              "\n",
              "    .dataframe thead th {\n",
              "        text-align: right;\n",
              "    }\n",
              "</style>\n",
              "<table border=\"1\" class=\"dataframe\">\n",
              "  <thead>\n",
              "    <tr style=\"text-align: right;\">\n",
              "      <th></th>\n",
              "      <th>age</th>\n",
              "      <th>job</th>\n",
              "      <th>marital</th>\n",
              "      <th>education</th>\n",
              "      <th>default</th>\n",
              "      <th>housing</th>\n",
              "      <th>loan</th>\n",
              "      <th>contact</th>\n",
              "      <th>month</th>\n",
              "      <th>day_of_week</th>\n",
              "      <th>duration</th>\n",
              "      <th>campaign</th>\n",
              "      <th>pdays</th>\n",
              "      <th>previous</th>\n",
              "      <th>poutcome</th>\n",
              "      <th>emp.var.rate</th>\n",
              "      <th>cons.price.idx</th>\n",
              "      <th>cons.conf.idx</th>\n",
              "      <th>euribor3m</th>\n",
              "      <th>nr.employed</th>\n",
              "      <th>y</th>\n",
              "    </tr>\n",
              "  </thead>\n",
              "  <tbody>\n",
              "    <tr>\n",
              "      <th>0</th>\n",
              "      <td>56</td>\n",
              "      <td>housemaid</td>\n",
              "      <td>married</td>\n",
              "      <td>basic.4y</td>\n",
              "      <td>no</td>\n",
              "      <td>no</td>\n",
              "      <td>no</td>\n",
              "      <td>telephone</td>\n",
              "      <td>may</td>\n",
              "      <td>mon</td>\n",
              "      <td>261</td>\n",
              "      <td>1</td>\n",
              "      <td>999</td>\n",
              "      <td>0</td>\n",
              "      <td>nonexistent</td>\n",
              "      <td>1.1</td>\n",
              "      <td>93.994</td>\n",
              "      <td>-36.4</td>\n",
              "      <td>4.857</td>\n",
              "      <td>5191</td>\n",
              "      <td>no</td>\n",
              "    </tr>\n",
              "    <tr>\n",
              "      <th>1</th>\n",
              "      <td>57</td>\n",
              "      <td>services</td>\n",
              "      <td>married</td>\n",
              "      <td>high.school</td>\n",
              "      <td>unknown</td>\n",
              "      <td>no</td>\n",
              "      <td>no</td>\n",
              "      <td>telephone</td>\n",
              "      <td>may</td>\n",
              "      <td>mon</td>\n",
              "      <td>149</td>\n",
              "      <td>1</td>\n",
              "      <td>999</td>\n",
              "      <td>0</td>\n",
              "      <td>nonexistent</td>\n",
              "      <td>1.1</td>\n",
              "      <td>93.994</td>\n",
              "      <td>-36.4</td>\n",
              "      <td>4.857</td>\n",
              "      <td>5191</td>\n",
              "      <td>no</td>\n",
              "    </tr>\n",
              "    <tr>\n",
              "      <th>2</th>\n",
              "      <td>37</td>\n",
              "      <td>services</td>\n",
              "      <td>married</td>\n",
              "      <td>high.school</td>\n",
              "      <td>no</td>\n",
              "      <td>yes</td>\n",
              "      <td>no</td>\n",
              "      <td>telephone</td>\n",
              "      <td>may</td>\n",
              "      <td>mon</td>\n",
              "      <td>226</td>\n",
              "      <td>1</td>\n",
              "      <td>999</td>\n",
              "      <td>0</td>\n",
              "      <td>nonexistent</td>\n",
              "      <td>1.1</td>\n",
              "      <td>93.994</td>\n",
              "      <td>-36.4</td>\n",
              "      <td>4.857</td>\n",
              "      <td>5191</td>\n",
              "      <td>no</td>\n",
              "    </tr>\n",
              "    <tr>\n",
              "      <th>3</th>\n",
              "      <td>40</td>\n",
              "      <td>admin.</td>\n",
              "      <td>married</td>\n",
              "      <td>basic.6y</td>\n",
              "      <td>no</td>\n",
              "      <td>no</td>\n",
              "      <td>no</td>\n",
              "      <td>telephone</td>\n",
              "      <td>may</td>\n",
              "      <td>mon</td>\n",
              "      <td>151</td>\n",
              "      <td>1</td>\n",
              "      <td>999</td>\n",
              "      <td>0</td>\n",
              "      <td>nonexistent</td>\n",
              "      <td>1.1</td>\n",
              "      <td>93.994</td>\n",
              "      <td>-36.4</td>\n",
              "      <td>4.857</td>\n",
              "      <td>5191</td>\n",
              "      <td>no</td>\n",
              "    </tr>\n",
              "    <tr>\n",
              "      <th>4</th>\n",
              "      <td>56</td>\n",
              "      <td>services</td>\n",
              "      <td>married</td>\n",
              "      <td>high.school</td>\n",
              "      <td>no</td>\n",
              "      <td>no</td>\n",
              "      <td>yes</td>\n",
              "      <td>telephone</td>\n",
              "      <td>may</td>\n",
              "      <td>mon</td>\n",
              "      <td>307</td>\n",
              "      <td>1</td>\n",
              "      <td>999</td>\n",
              "      <td>0</td>\n",
              "      <td>nonexistent</td>\n",
              "      <td>1.1</td>\n",
              "      <td>93.994</td>\n",
              "      <td>-36.4</td>\n",
              "      <td>4.857</td>\n",
              "      <td>5191</td>\n",
              "      <td>no</td>\n",
              "    </tr>\n",
              "  </tbody>\n",
              "</table>\n",
              "</div>"
            ],
            "text/plain": [
              "   age        job  marital    education  ... cons.conf.idx euribor3m nr.employed   y\n",
              "0   56  housemaid  married     basic.4y  ...         -36.4     4.857        5191  no\n",
              "1   57   services  married  high.school  ...         -36.4     4.857        5191  no\n",
              "2   37   services  married  high.school  ...         -36.4     4.857        5191  no\n",
              "3   40     admin.  married     basic.6y  ...         -36.4     4.857        5191  no\n",
              "4   56   services  married  high.school  ...         -36.4     4.857        5191  no\n",
              "\n",
              "[5 rows x 21 columns]"
            ]
          },
          "metadata": {
            "tags": []
          },
          "execution_count": 45
        }
      ]
    },
    {
      "cell_type": "markdown",
      "metadata": {
        "id": "F_RudW-WYqqL",
        "colab_type": "text"
      },
      "source": [
        "Com a consulta df.isnull (). Sum (), garantimos que não haja valores ausentes no conjunto de dados."
      ]
    },
    {
      "cell_type": "code",
      "metadata": {
        "id": "Cv7goj8NDcdI",
        "colab_type": "code",
        "colab": {
          "base_uri": "https://localhost:8080/",
          "height": 391
        },
        "outputId": "51cf5fdc-b565-4562-858c-5c4ce401437a"
      },
      "source": [
        "df.isnull().sum()"
      ],
      "execution_count": 46,
      "outputs": [
        {
          "output_type": "execute_result",
          "data": {
            "text/plain": [
              "age               0\n",
              "job               0\n",
              "marital           0\n",
              "education         0\n",
              "default           0\n",
              "housing           0\n",
              "loan              0\n",
              "contact           0\n",
              "month             0\n",
              "day_of_week       0\n",
              "duration          0\n",
              "campaign          0\n",
              "pdays             0\n",
              "previous          0\n",
              "poutcome          0\n",
              "emp.var.rate      0\n",
              "cons.price.idx    0\n",
              "cons.conf.idx     0\n",
              "euribor3m         0\n",
              "nr.employed       0\n",
              "y                 0\n",
              "dtype: int64"
            ]
          },
          "metadata": {
            "tags": []
          },
          "execution_count": 46
        }
      ]
    },
    {
      "cell_type": "markdown",
      "metadata": {
        "id": "DA2pC96mY9b0",
        "colab_type": "text"
      },
      "source": [
        "\n",
        "Em seguida, transformaremos os rótulos não numéricos das variáveis ​​categóricas em numéricos e os converteremos em números inteiros, utilizando a biblioteca 'sklearn'. Fazemos assim:"
      ]
    },
    {
      "cell_type": "code",
      "metadata": {
        "id": "i2Gsbs5SJjSu",
        "colab_type": "code",
        "colab": {}
      },
      "source": [
        "from sklearn import preprocessing\n",
        "\n",
        "num = preprocessing.LabelEncoder()\n",
        "\n",
        "num.fit(['admin.','blue-collar','entrepreneur','housemaid','management','retired','self-employed','services',\n",
        "         'student','technician','unemployed','unknown'])\n",
        "df['job'] = num.transform(df['job']).astype('int')\n",
        "\n",
        "\n",
        "num.fit(['divorced','married','single','unknown'])\n",
        "df['marital'] = num.transform(df['marital']).astype('int')\n",
        "\n",
        "num.fit(['basic.4y','basic.6y','basic.9y','high.school','illiterate','professional.course',\n",
        "         'university.degree','unknown'])\n",
        "df['education'] = num.transform(df['education']).astype('int')\n",
        "\n",
        "num.fit(['no','yes','unknown'])\n",
        "df['housing'] = num.transform(df['housing']).astype('int')\n",
        "\n",
        "num.fit(['no','yes','unknown'])\n",
        "df['loan'] = num.transform(df['loan']).astype('int')\n",
        "\n",
        "num.fit(['failure','nonexistent','success'])\n",
        "df['poutcome'] = num.transform(df['poutcome']).astype('int')\n",
        "\n",
        "num.fit(['yes','no'])\n",
        "df['y'] = num.transform(df['y']).astype('int')\n",
        "\n",
        "\n"
      ],
      "execution_count": 0,
      "outputs": []
    },
    {
      "cell_type": "markdown",
      "metadata": {
        "id": "IFvnK1izZhe4",
        "colab_type": "text"
      },
      "source": [
        "Neste exemplo, foi necessario fazer a limpeza de algumas colunas irrelevantes, como 'contact', ' month ',' day_of_week ',' duration ',' campaign ',' pdays ',' previous 'e' poutcome '(essas colunas descrevem uma chamada telefônica que já aconteceu, portanto, não devem ser usadas em nosso modelo preditivo)."
      ]
    },
    {
      "cell_type": "code",
      "metadata": {
        "id": "Cb0ei3_zJfub",
        "colab_type": "code",
        "colab": {}
      },
      "source": [
        "df.drop(columns=['contact','month','day_of_week','duration','campaign','pdays','previous','poutcome'], inplace=True)"
      ],
      "execution_count": 0,
      "outputs": []
    },
    {
      "cell_type": "code",
      "metadata": {
        "id": "ncrAZkBjOYg5",
        "colab_type": "code",
        "colab": {
          "base_uri": "https://localhost:8080/",
          "height": 439
        },
        "outputId": "556ecf64-d84c-4bf0-e275-f53ec34b84d3"
      },
      "source": [
        "df"
      ],
      "execution_count": 51,
      "outputs": [
        {
          "output_type": "execute_result",
          "data": {
            "text/html": [
              "<div>\n",
              "<style scoped>\n",
              "    .dataframe tbody tr th:only-of-type {\n",
              "        vertical-align: middle;\n",
              "    }\n",
              "\n",
              "    .dataframe tbody tr th {\n",
              "        vertical-align: top;\n",
              "    }\n",
              "\n",
              "    .dataframe thead th {\n",
              "        text-align: right;\n",
              "    }\n",
              "</style>\n",
              "<table border=\"1\" class=\"dataframe\">\n",
              "  <thead>\n",
              "    <tr style=\"text-align: right;\">\n",
              "      <th></th>\n",
              "      <th>age</th>\n",
              "      <th>job</th>\n",
              "      <th>marital</th>\n",
              "      <th>education</th>\n",
              "      <th>default</th>\n",
              "      <th>housing</th>\n",
              "      <th>loan</th>\n",
              "      <th>emp.var.rate</th>\n",
              "      <th>cons.price.idx</th>\n",
              "      <th>cons.conf.idx</th>\n",
              "      <th>euribor3m</th>\n",
              "      <th>nr.employed</th>\n",
              "      <th>y</th>\n",
              "    </tr>\n",
              "  </thead>\n",
              "  <tbody>\n",
              "    <tr>\n",
              "      <th>0</th>\n",
              "      <td>56</td>\n",
              "      <td>3</td>\n",
              "      <td>1</td>\n",
              "      <td>0</td>\n",
              "      <td>no</td>\n",
              "      <td>0</td>\n",
              "      <td>0</td>\n",
              "      <td>1.1</td>\n",
              "      <td>93.994</td>\n",
              "      <td>-36.4</td>\n",
              "      <td>4.857</td>\n",
              "      <td>5191</td>\n",
              "      <td>0</td>\n",
              "    </tr>\n",
              "    <tr>\n",
              "      <th>1</th>\n",
              "      <td>57</td>\n",
              "      <td>7</td>\n",
              "      <td>1</td>\n",
              "      <td>3</td>\n",
              "      <td>unknown</td>\n",
              "      <td>0</td>\n",
              "      <td>0</td>\n",
              "      <td>1.1</td>\n",
              "      <td>93.994</td>\n",
              "      <td>-36.4</td>\n",
              "      <td>4.857</td>\n",
              "      <td>5191</td>\n",
              "      <td>0</td>\n",
              "    </tr>\n",
              "    <tr>\n",
              "      <th>2</th>\n",
              "      <td>37</td>\n",
              "      <td>7</td>\n",
              "      <td>1</td>\n",
              "      <td>3</td>\n",
              "      <td>no</td>\n",
              "      <td>2</td>\n",
              "      <td>0</td>\n",
              "      <td>1.1</td>\n",
              "      <td>93.994</td>\n",
              "      <td>-36.4</td>\n",
              "      <td>4.857</td>\n",
              "      <td>5191</td>\n",
              "      <td>0</td>\n",
              "    </tr>\n",
              "    <tr>\n",
              "      <th>3</th>\n",
              "      <td>40</td>\n",
              "      <td>0</td>\n",
              "      <td>1</td>\n",
              "      <td>1</td>\n",
              "      <td>no</td>\n",
              "      <td>0</td>\n",
              "      <td>0</td>\n",
              "      <td>1.1</td>\n",
              "      <td>93.994</td>\n",
              "      <td>-36.4</td>\n",
              "      <td>4.857</td>\n",
              "      <td>5191</td>\n",
              "      <td>0</td>\n",
              "    </tr>\n",
              "    <tr>\n",
              "      <th>4</th>\n",
              "      <td>56</td>\n",
              "      <td>7</td>\n",
              "      <td>1</td>\n",
              "      <td>3</td>\n",
              "      <td>no</td>\n",
              "      <td>0</td>\n",
              "      <td>2</td>\n",
              "      <td>1.1</td>\n",
              "      <td>93.994</td>\n",
              "      <td>-36.4</td>\n",
              "      <td>4.857</td>\n",
              "      <td>5191</td>\n",
              "      <td>0</td>\n",
              "    </tr>\n",
              "    <tr>\n",
              "      <th>...</th>\n",
              "      <td>...</td>\n",
              "      <td>...</td>\n",
              "      <td>...</td>\n",
              "      <td>...</td>\n",
              "      <td>...</td>\n",
              "      <td>...</td>\n",
              "      <td>...</td>\n",
              "      <td>...</td>\n",
              "      <td>...</td>\n",
              "      <td>...</td>\n",
              "      <td>...</td>\n",
              "      <td>...</td>\n",
              "      <td>...</td>\n",
              "    </tr>\n",
              "    <tr>\n",
              "      <th>41183</th>\n",
              "      <td>73</td>\n",
              "      <td>5</td>\n",
              "      <td>1</td>\n",
              "      <td>5</td>\n",
              "      <td>no</td>\n",
              "      <td>2</td>\n",
              "      <td>0</td>\n",
              "      <td>-1.1</td>\n",
              "      <td>94.767</td>\n",
              "      <td>-50.8</td>\n",
              "      <td>1.028</td>\n",
              "      <td>4963.6</td>\n",
              "      <td>1</td>\n",
              "    </tr>\n",
              "    <tr>\n",
              "      <th>41184</th>\n",
              "      <td>46</td>\n",
              "      <td>1</td>\n",
              "      <td>1</td>\n",
              "      <td>5</td>\n",
              "      <td>no</td>\n",
              "      <td>0</td>\n",
              "      <td>0</td>\n",
              "      <td>-1.1</td>\n",
              "      <td>94.767</td>\n",
              "      <td>-50.8</td>\n",
              "      <td>1.028</td>\n",
              "      <td>4963.6</td>\n",
              "      <td>0</td>\n",
              "    </tr>\n",
              "    <tr>\n",
              "      <th>41185</th>\n",
              "      <td>56</td>\n",
              "      <td>5</td>\n",
              "      <td>1</td>\n",
              "      <td>6</td>\n",
              "      <td>no</td>\n",
              "      <td>2</td>\n",
              "      <td>0</td>\n",
              "      <td>-1.1</td>\n",
              "      <td>94.767</td>\n",
              "      <td>-50.8</td>\n",
              "      <td>1.028</td>\n",
              "      <td>4963.6</td>\n",
              "      <td>0</td>\n",
              "    </tr>\n",
              "    <tr>\n",
              "      <th>41186</th>\n",
              "      <td>44</td>\n",
              "      <td>9</td>\n",
              "      <td>1</td>\n",
              "      <td>5</td>\n",
              "      <td>no</td>\n",
              "      <td>0</td>\n",
              "      <td>0</td>\n",
              "      <td>-1.1</td>\n",
              "      <td>94.767</td>\n",
              "      <td>-50.8</td>\n",
              "      <td>1.028</td>\n",
              "      <td>4963.6</td>\n",
              "      <td>1</td>\n",
              "    </tr>\n",
              "    <tr>\n",
              "      <th>41187</th>\n",
              "      <td>74</td>\n",
              "      <td>5</td>\n",
              "      <td>1</td>\n",
              "      <td>5</td>\n",
              "      <td>no</td>\n",
              "      <td>2</td>\n",
              "      <td>0</td>\n",
              "      <td>-1.1</td>\n",
              "      <td>94.767</td>\n",
              "      <td>-50.8</td>\n",
              "      <td>1.028</td>\n",
              "      <td>4963.6</td>\n",
              "      <td>0</td>\n",
              "    </tr>\n",
              "  </tbody>\n",
              "</table>\n",
              "<p>41188 rows × 13 columns</p>\n",
              "</div>"
            ],
            "text/plain": [
              "       age  job  marital  education  ... cons.conf.idx  euribor3m  nr.employed  y\n",
              "0       56    3        1          0  ...         -36.4      4.857         5191  0\n",
              "1       57    7        1          3  ...         -36.4      4.857         5191  0\n",
              "2       37    7        1          3  ...         -36.4      4.857         5191  0\n",
              "3       40    0        1          1  ...         -36.4      4.857         5191  0\n",
              "4       56    7        1          3  ...         -36.4      4.857         5191  0\n",
              "...    ...  ...      ...        ...  ...           ...        ...          ... ..\n",
              "41183   73    5        1          5  ...         -50.8      1.028       4963.6  1\n",
              "41184   46    1        1          5  ...         -50.8      1.028       4963.6  0\n",
              "41185   56    5        1          6  ...         -50.8      1.028       4963.6  0\n",
              "41186   44    9        1          5  ...         -50.8      1.028       4963.6  1\n",
              "41187   74    5        1          5  ...         -50.8      1.028       4963.6  0\n",
              "\n",
              "[41188 rows x 13 columns]"
            ]
          },
          "metadata": {
            "tags": []
          },
          "execution_count": 51
        }
      ]
    },
    {
      "cell_type": "markdown",
      "metadata": {
        "id": "1YU760GrZ85c",
        "colab_type": "text"
      },
      "source": [
        "Executamos uma consulta 'df.dtypes' apenas para garantir que os rótulos tenham se transformado em números inteiros."
      ]
    },
    {
      "cell_type": "code",
      "metadata": {
        "id": "NaBze9iwOZRF",
        "colab_type": "code",
        "colab": {
          "base_uri": "https://localhost:8080/",
          "height": 255
        },
        "outputId": "80c04d2f-7a79-4e46-d8f3-13b886b0a888"
      },
      "source": [
        "df.dtypes"
      ],
      "execution_count": 52,
      "outputs": [
        {
          "output_type": "execute_result",
          "data": {
            "text/plain": [
              "age                int64\n",
              "job                int64\n",
              "marital            int64\n",
              "education          int64\n",
              "default           object\n",
              "housing            int64\n",
              "loan               int64\n",
              "emp.var.rate      object\n",
              "cons.price.idx    object\n",
              "cons.conf.idx     object\n",
              "euribor3m         object\n",
              "nr.employed       object\n",
              "y                  int64\n",
              "dtype: object"
            ]
          },
          "metadata": {
            "tags": []
          },
          "execution_count": 52
        }
      ]
    },
    {
      "cell_type": "markdown",
      "metadata": {
        "id": "YFd3OkeOaJTa",
        "colab_type": "text"
      },
      "source": [
        "Em seguida, aplicamos o 'StandardScaler' da caixa de ferramentas 'sklearn.preprocessing' para padronizar os valores numéricos dos outros recursos que esperamos encontrar no modelo. O método padroniza os recursos removendo a média e o dimensionamento para a variação da unidade:"
      ]
    },
    {
      "cell_type": "code",
      "metadata": {
        "id": "SOfmk1mn3hti",
        "colab_type": "code",
        "colab": {}
      },
      "source": [
        "from sklearn.preprocessing import StandardScaler\n",
        "sclaer = StandardScaler()\n",
        "\n",
        "df['cons.price.idx'] = sclaer.fit_transform(df[['cons.price.idx']]).reshape(-1,1)\n",
        "df['cons.conf.idx'] = sclaer.fit_transform(df[['cons.conf.idx']]).reshape(-1,1)\n",
        "df['euribor3m'] = sclaer.fit_transform(df[['euribor3m']]).reshape(-1,1)"
      ],
      "execution_count": 0,
      "outputs": []
    },
    {
      "cell_type": "markdown",
      "metadata": {
        "id": "i9ad-YuLeP--",
        "colab_type": "text"
      },
      "source": [
        "\n",
        "Vamos agora classificar os recursos do conjunto de dados com o método de eliminação de recurso recursivo (RFE) e o algoritmo Random Forest Classifier como seu estimador:"
      ]
    },
    {
      "cell_type": "code",
      "metadata": {
        "id": "J4mR9qOU5Ja_",
        "colab_type": "code",
        "colab": {
          "base_uri": "https://localhost:8080/",
          "height": 68
        },
        "outputId": "55157267-8e45-4a3c-efa5-d7b6c577ba49"
      },
      "source": [
        "import numpy as np\n",
        "from sklearn.ensemble import RandomForestClassifier\n",
        "from sklearn.feature_selection import RFE\n",
        "\n",
        "X = np.asarray(df[['age', 'job', 'marital', 'education', 'housing', 'loan', 'emp.var.rate',\n",
        "                  'cons.price.idx','cons.conf.idx','euribor3m']])\n",
        "\n",
        "y = np.asarray(df['y'])\n",
        "rfc = RandomForestClassifier(n_estimators=40)\n",
        "rfe = RFE(rfc, 6)\n",
        "rfe_fit = rfe.fit(X, y)\n",
        "\n",
        "print('Num features: %s' %  (rfe_fit.n_features_))\n",
        "print('Selected Features: %s' % (rfe_fit.support_))\n",
        "print('Feature Ranking: %s' % (rfe_fit.ranking_))"
      ],
      "execution_count": 59,
      "outputs": [
        {
          "output_type": "stream",
          "text": [
            "Num features: 6\n",
            "Selected Features: [ True  True False  True False False  True False  True  True]\n",
            "Feature Ranking: [1 1 3 1 2 5 1 4 1 1]\n"
          ],
          "name": "stdout"
        }
      ]
    },
    {
      "cell_type": "markdown",
      "metadata": {
        "id": "OCZxWr16eZ-m",
        "colab_type": "text"
      },
      "source": [
        "Vamos verificar quantos valores para cara classificação da variável resposta y:"
      ]
    },
    {
      "cell_type": "code",
      "metadata": {
        "id": "QZyHTeI48WBp",
        "colab_type": "code",
        "colab": {
          "base_uri": "https://localhost:8080/",
          "height": 68
        },
        "outputId": "16369682-b5f1-4c5c-f626-6bedea3ac8a8"
      },
      "source": [
        "df['y'].value_counts()"
      ],
      "execution_count": 65,
      "outputs": [
        {
          "output_type": "execute_result",
          "data": {
            "text/plain": [
              "0    36548\n",
              "1     4640\n",
              "Name: y, dtype: int64"
            ]
          },
          "metadata": {
            "tags": []
          },
          "execution_count": 65
        }
      ]
    },
    {
      "cell_type": "markdown",
      "metadata": {
        "id": "dA8-6u01gLqr",
        "colab_type": "text"
      },
      "source": [
        "\n",
        "Desequilíbrio de classe é o problema que geralmente acompanha casos de classificação. Após executar a consulta df ['y']. Value_counts (), vemos que as duas classes da variável 'y' não são representadas igualmente em nosso conjunto de dados. Após a limpeza dos dados, existem 36584 registros pertencentes à classe '0' e apenas 4640 registros da classe '1' na variável de destino 'y'. Antes de dividir os dados nas amostras de treinamento e teste, devemos pensar em superamostragem ou subamostragem dos dados."
      ]
    },
    {
      "cell_type": "markdown",
      "metadata": {
        "id": "2pK4K9fCj4az",
        "colab_type": "text"
      },
      "source": [
        "# SMOTE\n",
        "\n",
        "Smote – Consiste em gerar dados sintéticos (não duplicados) da classe minoritária a partir de vizinhos.\n",
        "Ele calcula quais são os vizinhos mais próximos e as características desses vizinhos para criar novos dados. Se o número de dados gerados for muito grande podemos ter um overfiting.\n",
        "\n",
        "Para reamostrar os dados, vamos aplicar o método SMOTE para a sobreamostragem na caixa de ferramentas imblearn.over_sampling (para esta etapa, talvez seja necessário instalar o pacote imblearn com Pip ou Conda primeiro):"
      ]
    },
    {
      "cell_type": "code",
      "metadata": {
        "id": "r6ODmGnXDmFb",
        "colab_type": "code",
        "colab": {
          "base_uri": "https://localhost:8080/",
          "height": 71
        },
        "outputId": "3bf52337-28d9-41b9-9c7c-3f688921cce2"
      },
      "source": [
        "from imblearn.over_sampling import SMOTE\n",
        "\n",
        "sm = SMOTE(ratio='auto', kind='regular')\n",
        "X_sampled, y_sampled = sm.fit_sample(X,y)"
      ],
      "execution_count": 69,
      "outputs": [
        {
          "output_type": "stream",
          "text": [
            "/usr/local/lib/python3.6/dist-packages/sklearn/utils/deprecation.py:87: FutureWarning: Function safe_indexing is deprecated; safe_indexing is deprecated in version 0.22 and will be removed in version 0.24.\n",
            "  warnings.warn(msg, category=FutureWarning)\n"
          ],
          "name": "stderr"
        }
      ]
    },
    {
      "cell_type": "markdown",
      "metadata": {
        "id": "zkwABP-ZkIcG",
        "colab_type": "text"
      },
      "source": [
        "\n",
        "É tão simples quanto isso. Agora, os dados estão em equilíbrio com as entradas 36548 em cada classe:"
      ]
    },
    {
      "cell_type": "code",
      "metadata": {
        "id": "7zOGfK1GEN3e",
        "colab_type": "code",
        "colab": {
          "base_uri": "https://localhost:8080/",
          "height": 34
        },
        "outputId": "79ba1201-584c-4a9c-e072-209fe1622929"
      },
      "source": [
        "Sampled_no = len(y_sampled[y_sampled==0])\n",
        "Sampled_yes = len(y_sampled[y_sampled==1])\n",
        "print([Sampled_no],[Sampled_yes])"
      ],
      "execution_count": 70,
      "outputs": [
        {
          "output_type": "stream",
          "text": [
            "[36548] [36548]\n"
          ],
          "name": "stdout"
        }
      ]
    },
    {
      "cell_type": "markdown",
      "metadata": {
        "id": "pUYMuWOjkRfK",
        "colab_type": "text"
      },
      "source": [
        "# Construindo um modelo preditivo\n",
        "\n",
        "Agora que os dados foram preparados, estamos prontos para treinar nosso modelo e fazer previsões. Vamos primeiro dividir os dados nos conjuntos de treinamento e teste:"
      ]
    },
    {
      "cell_type": "code",
      "metadata": {
        "id": "roHL50WxI97W",
        "colab_type": "code",
        "colab": {}
      },
      "source": [
        "from sklearn.model_selection import train_test_split\n",
        "X_train, X_test, y_train, y_test = train_test_split(X_sampled, y_sampled, test_size=0.3, random_state=0)"
      ],
      "execution_count": 0,
      "outputs": []
    },
    {
      "cell_type": "markdown",
      "metadata": {
        "id": "lM3h-qgUkgOb",
        "colab_type": "text"
      },
      "source": [
        "\n",
        "Vamos tentar quatro algoritmos de classificação, ou seja, regressão logística, máquina de vetores de suporte, árvores de decisão e floresta aleatória e depois calcularemos suas pontuações F1 usando uma função de pontuação definida pelo usuário para escolher o classificador com a pontuação mais alta:"
      ]
    },
    {
      "cell_type": "code",
      "metadata": {
        "id": "v67QfwBZJyEr",
        "colab_type": "code",
        "colab": {
          "base_uri": "https://localhost:8080/",
          "height": 85
        },
        "outputId": "4ea17619-0499-4e45-9a5c-308a6dcd092d"
      },
      "source": [
        "from sklearn.metrics import f1_score\n",
        "from sklearn.linear_model import LogisticRegression\n",
        "from sklearn.svm import SVC\n",
        "from sklearn.tree import DecisionTreeClassifier\n",
        "from sklearn.ensemble import RandomForestClassifier\n",
        "\n",
        "lr = LogisticRegression(C=1, solver='lbfgs')\n",
        "clf = SVC(kernel ='rbf', gamma = 'auto')\n",
        "dtree = DecisionTreeClassifier(criterion='entropy', max_depth=4)\n",
        "rfc = RandomForestClassifier(n_estimators=40)\n",
        "\n",
        "def scorer(i,j,k,l):\n",
        "  for every in (i,j,k,l):\n",
        "    every.fit(X_train,y_train)\n",
        "    print(every.__class__.__name__, 'F1 score =', f1_score(y_test,every.predict(X_test)))\n",
        "scorer (lr,clf,dtree,rfc)"
      ],
      "execution_count": 72,
      "outputs": [
        {
          "output_type": "stream",
          "text": [
            "LogisticRegression F1 score = 0.7144288577154309\n",
            "SVC F1 score = 0.7474278128111518\n",
            "DecisionTreeClassifier F1 score = 0.704084949615343\n",
            "RandomForestClassifier F1 score = 0.9238555535290899\n"
          ],
          "name": "stdout"
        }
      ]
    },
    {
      "cell_type": "markdown",
      "metadata": {
        "id": "ZqYaQ3Vrkyef",
        "colab_type": "text"
      },
      "source": [
        "\n",
        "A pontuação F1 é a média ponderada da precisão e recuperação. \n",
        "Agora, imprimamos um relatório de classificação completo com a precisão e recuperação do algoritmo Random Forest, que demonstrou a maior pontuação F1:"
      ]
    },
    {
      "cell_type": "code",
      "metadata": {
        "id": "-0U27tW2MeYP",
        "colab_type": "code",
        "colab": {
          "base_uri": "https://localhost:8080/",
          "height": 170
        },
        "outputId": "b067fb97-f825-4c42-f20c-9691b2d7a5e0"
      },
      "source": [
        "from sklearn.metrics import classification_report\n",
        "yhat = rfc.predict(X_test)\n",
        "print(classification_report(y_test,yhat))\n"
      ],
      "execution_count": 73,
      "outputs": [
        {
          "output_type": "stream",
          "text": [
            "              precision    recall  f1-score   support\n",
            "\n",
            "           0       0.91      0.93      0.92     10857\n",
            "           1       0.93      0.92      0.92     11072\n",
            "\n",
            "    accuracy                           0.92     21929\n",
            "   macro avg       0.92      0.92      0.92     21929\n",
            "weighted avg       0.92      0.92      0.92     21929\n",
            "\n"
          ],
          "name": "stdout"
        }
      ]
    },
    {
      "cell_type": "markdown",
      "metadata": {
        "id": "2hyQINaEk5Hc",
        "colab_type": "text"
      },
      "source": [
        "Finalmente, podemos visualizar o resultado com uma matriz de confusão:"
      ]
    },
    {
      "cell_type": "code",
      "metadata": {
        "id": "mKd6ua0XPSaR",
        "colab_type": "code",
        "colab": {}
      },
      "source": [
        "from sklearn.metrics import confusion_matrix\n",
        "import itertools\n",
        "import matplotlib.pyplot as plt\n",
        "\n",
        "def plot_confusion_matrix(cm, classes,\n",
        "                          normalize = False,\n",
        "                          title = 'Confusion Matrix',\n",
        "                          cmap = plt.cm.Blues):\n",
        "  plt.imshow(cm, interpolation = 'nearest', cmap=cmap)\n",
        "  plt.title(title)\n",
        "  plt.colorbar()\n",
        "  tick_marks = np.arange(len(classes))\n",
        "  plt.xticks(tick_marks, classes)\n",
        "  plt.yticks(tick_marks, classes)\n",
        "\n",
        "  fmt = '.2f' if normalize else 'd'\n",
        "  thresh = cm.max()/2.\n",
        "  for i, j in itertools.product(range(cm.shape[0]), range(cm.shape[1])):\n",
        "    plt.text(j,i,format(cm[i,j], fmt),\n",
        "             horizontalalignment = 'center',\n",
        "             color = 'white' if cm[i,j] > thresh else 'black')\n",
        "    plt.ylabel('True label')\n",
        "    plt.xlabel('Predicted label')\n",
        "\n",
        "  "
      ],
      "execution_count": 0,
      "outputs": []
    },
    {
      "cell_type": "code",
      "metadata": {
        "id": "japIyvaCUA8P",
        "colab_type": "code",
        "colab": {
          "base_uri": "https://localhost:8080/",
          "height": 295
        },
        "outputId": "abed6fd3-10b5-4d8f-f30a-26f606d429a1"
      },
      "source": [
        "plot_confusion_matrix(confusion_matrix(y_test,yhat), classes = ['0','1'], normalize=False, title='Confusion matrix')"
      ],
      "execution_count": 80,
      "outputs": [
        {
          "output_type": "display_data",
          "data": {
            "image/png": "[encoded data removed]",
            "text/plain": [
              "<Figure size 432x288 with 2 Axes>"
            ]
          },
          "metadata": {
            "tags": [],
            "needs_background": "light"
          }
        }
      ]
    }
  ]
}